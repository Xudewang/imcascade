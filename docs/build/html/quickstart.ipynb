{
 "cells": [
  {
   "cell_type": "markdown",
   "id": "bccd82ec-066d-44ab-b07d-e92eaabe6447",
   "metadata": {},
   "source": [
    "# Quickstart guide\n",
    "\n",
    "``imcascade`` is a non-parametric framework for fitting objects in astronomical images. This is accomplished by modelling the objects a series of Gaussians. For full details please read our paper here: *Put ArXiv link here*. What follows is a (very) brief introduction to the basic usage of ``imcascade``."
   ]
  },
  {
   "cell_type": "code",
   "execution_count": 1,
   "id": "785e7ccd-2f79-4474-b917-6666ba253fcc",
   "metadata": {
    "nbsphinx": "hidden",
    "tags": []
   },
   "outputs": [],
   "source": [
    "# This cell is hidden from documentation but the analytic profile and psf is shown here\n",
    "import numpy as np\n",
    "import matplotlib.pyplot as plt\n",
    "from astropy.modeling.functional_models import Sersic2D, Moffat2D\n",
    "from astropy.convolution import convolve\n",
    "grid = np.arange(0,150)\n",
    "X,Y = np.meshgrid(grid,grid)\n",
    "s2d = Sersic2D(r_eff = 5,n = 1.5, x_0 = 75.2, y_0 = 75.2)\n",
    "im = s2d(X,Y)\n",
    "im = im*100./np.sum(im)\n",
    "\n",
    "grid2 = np.arange(0,31)\n",
    "X,Y = np.meshgrid(grid2,grid2)\n",
    "m2d = Moffat2D(gamma = 3,alpha = 3, x_0 = 15., y_0 = 15.)\n",
    "psf = m2d(X,Y)\n",
    "psf = psf/ np.sum(psf)\n",
    "\n",
    "sci = convolve(im,psf) + np.random.normal(loc = 0, scale = 5e-2, size = im.shape)"
   ]
  },
  {
   "cell_type": "markdown",
   "id": "ff617b0e-7b21-40b1-9e3c-161fc455795a",
   "metadata": {},
   "source": [
    "In this short example we will fit an analytic, circular, Sersic profile with $n = 1.5$, $r_e = 5$ and total flux, $F = 100$, we have added purely Gaussian noise and convolved the profile with a Moffat PSF with $\\alpha = 3$ and $\\gamma = 3$\n",
    "\n",
    "In a hidden cell I have intialized the cutout in the 2D array ``sci`` and the pixelized PSF saved in the 2D array ``psf``.\n",
    "\n",
    "The ``InitializedFitter`` function is designed to take a pixelized science images (as 2D arrays or fits files) and help initalize a ``Fitter`` instance which will be used below to fit galaxies. This function is designed to help users get started using our experiences to help guide some of the decisions, which may not be applicable in all situations. For more details about these choices or other options please see [the in depth example](example.ipynb) for a longer discussion."
   ]
  },
  {
   "cell_type": "code",
   "execution_count": 2,
   "id": "9c7874db-937a-4ff6-b8ea-804bf9b03da2",
   "metadata": {},
   "outputs": [
    {
     "name": "stderr",
     "output_type": "stream",
     "text": [
      "2021-05-31 15:02:56,839 - Fit PSF with 4 components\n",
      "2021-05-31 15:02:56,842 - Widths: 1.2,1.81,5.28,2.93\n",
      "2021-05-31 15:02:56,845 - Fluxes: 0.27,0.51,0.03,0.19\n",
      "2021-05-31 15:02:56,877 - Using 9 components with logarithmically spaced widths to fit galaxy\n",
      "2021-05-31 15:02:56,879 - 0.87, 1.37, 2.15, 3.39, 5.33, 8.38, 13.17, 20.71, 32.57\n",
      "2021-05-31 15:02:56,881 - No mask was given, derriving one using sep\n",
      "2021-05-31 15:02:56,929 - Using sep rms map to calculate pixel weights\n"
     ]
    }
   ],
   "source": [
    "from imcascade.fitter import InitializeFitter\n",
    "\n",
    "fitter = initialize_fitter(sci,psf)"
   ]
  },
  {
   "cell_type": "markdown",
   "id": "1a5d2757-7e21-4640-99e7-4918293e3cc6",
   "metadata": {},
   "source": [
    "This function uses the ``psf_fitter`` module to fit the given pixelized psf with a sum of Gaussians, which is required for our method. Next it estimates the effective radius and uses nine logarithmically spaced widths for the Gaussian components ranging from the PSF HWHM to $10\\times r_e$. It then derrives pixel weights and masks using [sep](https://sep.readthedocs.io/en/v1.1.x/) (or the gain,exposure time and readnoise to calculate the rms). There are also options to use pre-calculated version of these if the user has them.\n",
    "\n",
    "Now we will run our least-squares minimization routine"
   ]
  },
  {
   "cell_type": "code",
   "execution_count": 3,
   "id": "7c5d7ed6-42b6-4ab0-b7be-cbe181774ece",
   "metadata": {},
   "outputs": [
    {
     "name": "stderr",
     "output_type": "stream",
     "text": [
      "2021-05-31 15:02:56,957 - Running least squares minimization\n",
      "2021-05-31 15:03:56,071 - Finished least squares minimization\n"
     ]
    }
   ],
   "source": [
    "_ = fitter.run_ls_min()"
   ]
  },
  {
   "cell_type": "markdown",
   "id": "05c39d09-747f-4e34-82c6-3fbc8aa707b2",
   "metadata": {},
   "source": [
    "Now we will use our ``results`` submodule to help us analyze the results"
   ]
  },
  {
   "cell_type": "code",
   "execution_count": 4,
   "id": "18a34acc-a6b5-4198-9523-4a727c4429ae",
   "metadata": {},
   "outputs": [
    {
     "data": {
      "text/plain": [
       "{'flux': 97.72826118464025,\n",
       " 'r20': 1.9478206698732747,\n",
       " 'r50': 4.860906958232164,\n",
       " 'r80': 9.559362403779067,\n",
       " 'r90': 12.515313905863412,\n",
       " 'C80_20': 4.907722025765852,\n",
       " 'C90_50': 2.5746869901856826}"
      ]
     },
     "execution_count": 4,
     "metadata": {},
     "output_type": "execute_result"
    }
   ],
   "source": [
    "from imcascade.results import ImcascadeResults\n",
    "res_ls = ImcascadeResults(fitter)\n",
    "res_ls.run_basic_analysis()"
   ]
  },
  {
   "cell_type": "markdown",
   "id": "c86639e0-6b8b-4cce-ba88-a4907233408a",
   "metadata": {},
   "source": [
    "We can see our fit matches the true profile pretty well!\n",
    "\n",
    "Next we will explore the Posterior distribution using Dynesty, and our method of pre-rendered images to help speed up the run time."
   ]
  },
  {
   "cell_type": "code",
   "execution_count": 5,
   "id": "c0196d31-fb2b-467b-9199-f2bc4f380011",
   "metadata": {},
   "outputs": [
    {
     "name": "stderr",
     "output_type": "stream",
     "text": [
      "2021-05-31 15:03:56,135 - Running dynesty using the express method\n",
      "2021-05-31 15:03:56,137 - Setting up Express params\n",
      "2021-05-31 15:03:56,141 - Parameters to be set for pre-rendered images:\n",
      "2021-05-31 15:03:56,146 - \t Galaxy Center: 76.34,75.26\n",
      "2021-05-31 15:03:56,149 - \t Axis Ratio: 1.00000\n",
      "2021-05-31 15:03:56,154 - \t PA: 1.76793\n",
      "iter: 22465 | batch: 7 | bound: 241 | nc: 25 | ncall: 529304 | eff(%):  4.244 | loglstar: 35388.750 < 35396.458 < 35394.847 | logz: 35381.749 +/-  0.209 | stop:  0.973                               2021-05-31 15:27:24,837 - Finished running dynesty, calculating posterier\n"
     ]
    }
   ],
   "source": [
    "post = fitter.run_dynesty(method = 'express')"
   ]
  },
  {
   "cell_type": "markdown",
   "id": "21df6c9e-79fe-4fa3-bb5d-e56aba2f4f39",
   "metadata": {},
   "source": [
    "Now if we run the analysis again, we will have slightly different central values and error as the 16th-84th percentile range of the posterior."
   ]
  },
  {
   "cell_type": "code",
   "execution_count": 6,
   "id": "b7ca6bce-8847-4c60-bcbf-679cc84ef8da",
   "metadata": {},
   "outputs": [
    {
     "data": {
      "text/plain": [
       "{'flux': array([97.80483983,  2.10467908,  2.25823866]),\n",
       " 'r20': array([1.94562589, 0.06065083, 0.05934397]),\n",
       " 'r50': array([4.88723217, 0.13187   , 0.13756048]),\n",
       " 'r80': array([9.52563547, 0.34671484, 0.41985052]),\n",
       " 'r90': array([12.51954456,  0.60381429,  0.78604302]),\n",
       " 'C80_20': array([4.90765941, 0.15687631, 0.18068263]),\n",
       " 'C90_50': array([2.56555266, 0.09066102, 0.11327043])}"
      ]
     },
     "execution_count": 6,
     "metadata": {},
     "output_type": "execute_result"
    }
   ],
   "source": [
    "res_dyn = ImcascadeResults(fitter)\n",
    "res_dyn.run_basic_analysis()"
   ]
  },
  {
   "cell_type": "code",
   "execution_count": null,
   "id": "cba27633-704d-48ea-bd00-87fea348b716",
   "metadata": {},
   "outputs": [],
   "source": []
  },
  {
   "cell_type": "code",
   "execution_count": null,
   "id": "1f559e33-d177-48df-a0fc-5d7dbd843df0",
   "metadata": {},
   "outputs": [],
   "source": []
  },
  {
   "cell_type": "code",
   "execution_count": null,
   "id": "d05eebf8-d190-43c9-87e3-bdf6ba9c7e74",
   "metadata": {},
   "outputs": [],
   "source": []
  },
  {
   "cell_type": "code",
   "execution_count": 12,
   "id": "640fa920-759a-48cf-ae14-d43b883cc492",
   "metadata": {},
   "outputs": [
    {
     "data": {
      "text/plain": [
       "(array([ 9.62201028e-01, -2.40365983e-02,  1.27866179e+00,  7.80079266e-01,\n",
       "         1.62167501e+00,  1.29989990e+00, -3.61070177e-01, -4.43607374e-01,\n",
       "        -2.85177407e+00,  2.69835030e-05,  1.46925815e-05, -1.84093241e-06]),\n",
       " array([1.00000000e+00, 1.00000000e+00, 1.00000000e+00, 1.00000000e+00,\n",
       "        7.34460985e-01, 1.00000000e+00, 1.00000000e+00, 1.00000000e+00,\n",
       "        1.00000000e+00, 1.61771141e-03, 1.52203270e-05, 1.52201399e-05]))"
      ]
     },
     "execution_count": 12,
     "metadata": {},
     "output_type": "execute_result"
    }
   ],
   "source": [
    "fitter._exp_pri_locs, fitter._exp_pri_scales"
   ]
  },
  {
   "cell_type": "code",
   "execution_count": 17,
   "id": "29ad1104-704f-404a-98ac-34c46bbddcc2",
   "metadata": {},
   "outputs": [
    {
     "data": {
      "text/plain": [
       "(22465, 9)"
      ]
     },
     "execution_count": 17,
     "metadata": {},
     "output_type": "execute_result"
    }
   ],
   "source": [
    "res_dyn.weights.shape"
   ]
  },
  {
   "cell_type": "code",
   "execution_count": 18,
   "id": "a491df10-4593-4cc2-8474-c8d92fe9002d",
   "metadata": {},
   "outputs": [],
   "source": [
    "def gauss (x,mean,sig):\n",
    "    return 1./(np.sqrt(2*np.pi*sig**2)) * np.exp(-(x-mean)**2/ (2*sig**2))\n",
    "def plot_pri(i):\n",
    "    m = fitter._exp_pri_locs[i]\n",
    "    s = fitter._exp_pri_scales[i]\n",
    "    x = np.linspace(m-5*s, m+5*s, num = 200)\n",
    "    return x, gauss(x,m,s)"
   ]
  },
  {
   "cell_type": "code",
   "execution_count": 29,
   "id": "6bc1ed5f-570f-498e-af85-bf95459bf5c1",
   "metadata": {},
   "outputs": [
    {
     "data": {
      "image/png": "[encoded data removed]",
      "text/plain": [
       "<Figure size 432x288 with 1 Axes>"
      ]
     },
     "metadata": {
      "needs_background": "light"
     },
     "output_type": "display_data"
    }
   ],
   "source": [
    "ind = 2\n",
    "\n",
    "plt.hist(np.log10(res_dyn.weights[:,ind]), density = True,bins = 100)\n",
    "pri_x,pri_p = plot_pri(ind)\n",
    "plt.plot(pri_x, pri_p, 'r--')\n",
    "plt.show()"
   ]
  },
  {
   "cell_type": "code",
   "execution_count": null,
   "id": "5c6a6fa9-f8f2-4bcb-9038-a9aa7d37100c",
   "metadata": {},
   "outputs": [],
   "source": []
  }
 ],
 "metadata": {
  "kernelspec": {
   "display_name": "Python 3",
   "language": "python",
   "name": "python3"
  },
  "language_info": {
   "codemirror_mode": {
    "name": "ipython",
    "version": 3
   },
   "file_extension": ".py",
   "mimetype": "text/x-python",
   "name": "python",
   "nbconvert_exporter": "python",
   "pygments_lexer": "ipython3",
   "version": "3.8.10"
  },
  "toc-showtags": true
 },
 "nbformat": 4,
 "nbformat_minor": 5
}
